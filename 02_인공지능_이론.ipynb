{
  "nbformat": 4,
  "nbformat_minor": 0,
  "metadata": {
    "colab": {
      "name": "02. 인공지능 이론",
      "provenance": [],
      "mount_file_id": "1QBDcrkWMwDq8AQCduLy4ieIukeiUsLGO",
      "authorship_tag": "ABX9TyNqy5MPyPZXap5aMYsOgB7H",
      "include_colab_link": true
    },
    "kernelspec": {
      "name": "python3",
      "display_name": "Python 3"
    }
  },
  "cells": [
    {
      "cell_type": "markdown",
      "metadata": {
        "id": "view-in-github",
        "colab_type": "text"
      },
      "source": [
        "<a href=\"https://colab.research.google.com/github/freemancho1/ai/blob/master/02_%EC%9D%B8%EA%B3%B5%EC%A7%80%EB%8A%A5_%EC%9D%B4%EB%A1%A0.ipynb\" target=\"_parent\"><img src=\"https://colab.research.google.com/assets/colab-badge.svg\" alt=\"Open In Colab\"/></a>"
      ]
    },
    {
      "cell_type": "markdown",
      "metadata": {
        "id": "gxbvWMqFTrEb"
      },
      "source": [
        "# 1. 다양한 종류의 인공지능 함수 소개"
      ]
    },
    {
      "cell_type": "markdown",
      "metadata": {
        "id": "ePBhyYseVSIW"
      },
      "source": [
        "## 1.1. Activation Function (활성화 함수)"
      ]
    },
    {
      "cell_type": "markdown",
      "metadata": {
        "id": "wmhDIOVdU4dh"
      },
      "source": [
        "<img src=\"https://user-images.githubusercontent.com/31339365/103440352-19f9da00-4c88-11eb-9919-8d8238758da8.png\" width=\"500\"></img>"
      ]
    },
    {
      "cell_type": "markdown",
      "metadata": {
        "id": "juuAul6KVtQo"
      },
      "source": [
        "### Sigmoid\n",
        "\n",
        "> 입력층의 결과가 일정값 이상이면 1을, 아니면 0을 리턴하는 함수로, 자주 사용하지는 않지만 **최종 출력층(Output Layer)의 결과가 0과 1로 분류되는 이진분류(binary classification)에서 많이 사용** 한다.\n"
      ]
    },
    {
      "cell_type": "markdown",
      "metadata": {
        "id": "jBWnaEAVWlCD"
      },
      "source": [
        "### ReLU ("
      ]
    },
    {
      "cell_type": "code",
      "metadata": {
        "id": "FWtej1dWWqcB"
      },
      "source": [
        ""
      ],
      "execution_count": null,
      "outputs": []
    }
  ]
}